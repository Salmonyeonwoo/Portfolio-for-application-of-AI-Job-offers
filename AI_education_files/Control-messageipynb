{
 "cells": [
  {
   "cell_type": "markdown",
   "id": "f3723d98-b150-432b-938e-efc34af4413d",
   "metadata": {},
   "source": [
    "![NVIDIA Logo](images/nvidia.png)"
   ]
  },
  {
   "cell_type": "markdown",
   "id": "d7004e4a-ddb7-4128-b0ee-ad85f9733dd9",
   "metadata": {},
   "source": [
    "# Control Messages"
   ]
  },
  {
   "cell_type": "markdown",
   "id": "185cb799-fdf5-4827-8658-78d82f820597",
   "metadata": {},
   "source": [
    "In this notebook you'll learn about the Morpheus `ControlMessage`, their consituent parts, and how to interact with them."
   ]
  },
  {
   "cell_type": "markdown",
   "id": "9b05d7cb-2b13-4ec4-aa92-db2370b45804",
   "metadata": {},
   "source": [
    "---"
   ]
  },
  {
   "cell_type": "markdown",
   "id": "a5dcd40d-7a7c-44f9-8aec-e9bb48f63904",
   "metadata": {},
   "source": [
    "## Objectives"
   ]
  },
  {
   "cell_type": "markdown",
   "id": "bb1dce77-0543-4cdb-b9e9-248f475ad80f",
   "metadata": {},
   "source": [
    "By the time you complete this notebook you will be able to:\n",
    "\n",
    "- Construct `ControlMessages`.\n",
    "- Add and interact with a `ControlMessage`'s payload.\n",
    "- Add, edit, and utilize a `ControlMessage`'s metadata.\n",
    "- Add, edit, and utilize a `ControlMessage`'s tasks dictionary.\n",
    "- Understand how `ControlMessages` facilitate SIMD processing in the context of a Morpheus pipeline."
   ]
  },
  {
   "cell_type": "markdown",
   "id": "45310d9e-d9ec-4c7c-a071-efc2dec6f965",
   "metadata": {},
   "source": [
    "---"
   ]
  },
  {
   "cell_type": "markdown",
   "id": "372a33c4-5c5f-49fd-9d0b-a199568730ee",
   "metadata": {},
   "source": [
    "## Imports"
   ]
  },
  {
   "cell_type": "code",
   "execution_count": 1,
   "id": "274c4076-884a-4ab6-861d-fc2f18d11c8b",
   "metadata": {
    "tags": []
   },
   "outputs": [],
   "source": [
    "import time\n",
    "\n",
    "import cudf\n",
    "\n",
    "from morpheus.messages import ControlMessage, MessageMeta"
   ]
  },
  {
   "cell_type": "markdown",
   "id": "3e07ea24-5e21-4a36-8c31-713b54fdf1a8",
   "metadata": {},
   "source": [
    "## Read Data"
   ]
  },
  {
   "cell_type": "markdown",
   "id": "95b76b7e-d119-41a7-b59a-de2da3ecf9ce",
   "metadata": {},
   "source": [
    "In this notebook we will return to working with our simple user authentication data, which we load now into a cuDF dataframe."
   ]
  },
  {
   "cell_type": "code",
   "execution_count": 2,
   "id": "c70b7253-1e96-4da1-bfab-751fe2b2539d",
   "metadata": {
    "tags": []
   },
   "outputs": [],
   "source": [
    "df = cudf.read_json('data/simple_user_log.jsonlines', lines=True)"
   ]
  },
  {
   "cell_type": "code",
   "execution_count": 3,
   "id": "ed0c2bbe-64ea-4fe5-9152-25f1f1c6b9fd",
   "metadata": {
    "tags": []
   },
   "outputs": [
    {
     "data": {
      "text/html": [
       "<div>\n",
       "<style scoped>\n",
       "    .dataframe tbody tr th:only-of-type {\n",
       "        vertical-align: middle;\n",
       "    }\n",
       "\n",
       "    .dataframe tbody tr th {\n",
       "        vertical-align: top;\n",
       "    }\n",
       "\n",
       "    .dataframe thead th {\n",
       "        text-align: right;\n",
       "    }\n",
       "</style>\n",
       "<table border=\"1\" class=\"dataframe\">\n",
       "  <thead>\n",
       "    <tr style=\"text-align: right;\">\n",
       "      <th></th>\n",
       "      <th>timestamp</th>\n",
       "      <th>user</th>\n",
       "      <th>ip_address</th>\n",
       "      <th>request_time</th>\n",
       "      <th>status</th>\n",
       "      <th>error_message</th>\n",
       "    </tr>\n",
       "  </thead>\n",
       "  <tbody>\n",
       "    <tr>\n",
       "      <th>0</th>\n",
       "      <td>2025-02-01T10:15:30Z</td>\n",
       "      <td>user123</td>\n",
       "      <td>192.168.1.10</td>\n",
       "      <td>200.45</td>\n",
       "      <td>success</td>\n",
       "      <td>&lt;NA&gt;</td>\n",
       "    </tr>\n",
       "    <tr>\n",
       "      <th>1</th>\n",
       "      <td>2025-02-01T10:17:00Z</td>\n",
       "      <td>user123</td>\n",
       "      <td>192.168.1.20</td>\n",
       "      <td>150.55</td>\n",
       "      <td>failure</td>\n",
       "      <td>Invalid credentials</td>\n",
       "    </tr>\n",
       "    <tr>\n",
       "      <th>2</th>\n",
       "      <td>2025-02-01T10:18:10Z</td>\n",
       "      <td>user456</td>\n",
       "      <td>10.0.0.5</td>\n",
       "      <td>180.60</td>\n",
       "      <td>success</td>\n",
       "      <td>&lt;NA&gt;</td>\n",
       "    </tr>\n",
       "    <tr>\n",
       "      <th>3</th>\n",
       "      <td>2025-02-01T10:19:25Z</td>\n",
       "      <td>user789</td>\n",
       "      <td>192.168.1.30</td>\n",
       "      <td>215.25</td>\n",
       "      <td>failure</td>\n",
       "      <td>Timeout</td>\n",
       "    </tr>\n",
       "    <tr>\n",
       "      <th>4</th>\n",
       "      <td>2025-02-01T10:20:00Z</td>\n",
       "      <td>user456</td>\n",
       "      <td>10.0.0.6</td>\n",
       "      <td>120.10</td>\n",
       "      <td>success</td>\n",
       "      <td>&lt;NA&gt;</td>\n",
       "    </tr>\n",
       "    <tr>\n",
       "      <th>5</th>\n",
       "      <td>2025-02-01T10:22:30Z</td>\n",
       "      <td>user123</td>\n",
       "      <td>192.168.1.40</td>\n",
       "      <td>175.35</td>\n",
       "      <td>failure</td>\n",
       "      <td>Access denied</td>\n",
       "    </tr>\n",
       "    <tr>\n",
       "      <th>6</th>\n",
       "      <td>2025-02-01T10:23:45Z</td>\n",
       "      <td>user321</td>\n",
       "      <td>192.168.1.50</td>\n",
       "      <td>205.50</td>\n",
       "      <td>success</td>\n",
       "      <td>&lt;NA&gt;</td>\n",
       "    </tr>\n",
       "    <tr>\n",
       "      <th>7</th>\n",
       "      <td>2025-02-01T10:25:05Z</td>\n",
       "      <td>user864</td>\n",
       "      <td>192.168.1.60</td>\n",
       "      <td>190.15</td>\n",
       "      <td>failure</td>\n",
       "      <td>Invalid session</td>\n",
       "    </tr>\n",
       "    <tr>\n",
       "      <th>8</th>\n",
       "      <td>2025-02-01T10:26:20Z</td>\n",
       "      <td>user123</td>\n",
       "      <td>192.168.1.70</td>\n",
       "      <td>210.80</td>\n",
       "      <td>success</td>\n",
       "      <td>&lt;NA&gt;</td>\n",
       "    </tr>\n",
       "    <tr>\n",
       "      <th>9</th>\n",
       "      <td>2025-02-01T10:27:40Z</td>\n",
       "      <td>user456</td>\n",
       "      <td>10.0.0.7</td>\n",
       "      <td>160.95</td>\n",
       "      <td>failure</td>\n",
       "      <td>Account locked</td>\n",
       "    </tr>\n",
       "  </tbody>\n",
       "</table>\n",
       "</div>"
      ],
      "text/plain": [
       "              timestamp     user    ip_address  request_time   status  \\\n",
       "0  2025-02-01T10:15:30Z  user123  192.168.1.10        200.45  success   \n",
       "1  2025-02-01T10:17:00Z  user123  192.168.1.20        150.55  failure   \n",
       "2  2025-02-01T10:18:10Z  user456      10.0.0.5        180.60  success   \n",
       "3  2025-02-01T10:19:25Z  user789  192.168.1.30        215.25  failure   \n",
       "4  2025-02-01T10:20:00Z  user456      10.0.0.6        120.10  success   \n",
       "5  2025-02-01T10:22:30Z  user123  192.168.1.40        175.35  failure   \n",
       "6  2025-02-01T10:23:45Z  user321  192.168.1.50        205.50  success   \n",
       "7  2025-02-01T10:25:05Z  user864  192.168.1.60        190.15  failure   \n",
       "8  2025-02-01T10:26:20Z  user123  192.168.1.70        210.80  success   \n",
       "9  2025-02-01T10:27:40Z  user456      10.0.0.7        160.95  failure   \n",
       "\n",
       "         error_message  \n",
       "0                 <NA>  \n",
       "1  Invalid credentials  \n",
       "2                 <NA>  \n",
       "3              Timeout  \n",
       "4                 <NA>  \n",
       "5        Access denied  \n",
       "6                 <NA>  \n",
       "7      Invalid session  \n",
       "8                 <NA>  \n",
       "9       Account locked  "
      ]
     },
     "execution_count": 3,
     "metadata": {},
     "output_type": "execute_result"
    }
   ],
   "source": [
    "df"
   ]
  },
  {
   "cell_type": "markdown",
   "id": "1d5ca58e-2a5c-4337-80c0-46557cc10fc5",
   "metadata": {},
   "source": [
    "---"
   ]
  },
  {
   "cell_type": "markdown",
   "id": "e6595eba-fc07-4da7-b3bb-636660795087",
   "metadata": {},
   "source": [
    "## Create a MessageMeta"
   ]
  },
  {
   "cell_type": "markdown",
   "id": "614b8139-9c55-4274-baf2-e1d507e2402e",
   "metadata": {},
   "source": [
    "As you recall, we can create a Morpheus `MessageMeta` out of a dataframe. Here we create a `MessageMeta` instance using our authentication log dataframe."
   ]
  },
  {
   "cell_type": "code",
   "execution_count": 4,
   "id": "07fd4426-c663-40bb-89aa-621720fde01b",
   "metadata": {
    "tags": []
   },
   "outputs": [],
   "source": [
    "mm = MessageMeta(df)"
   ]
  },
  {
   "cell_type": "markdown",
   "id": "5945dab3-ec6f-4445-b355-555d3e51cadc",
   "metadata": {},
   "source": [
    "---"
   ]
  },
  {
   "cell_type": "markdown",
   "id": "c433ea14-5cb3-4a37-9ea9-1a9fb1d6a84b",
   "metadata": {},
   "source": [
    "## Control Messages"
   ]
  },
  {
   "cell_type": "markdown",
   "id": "af911836-a1e4-4e7c-9ae1-86628c726865",
   "metadata": {},
   "source": [
    "![control-messages](images/control-messages.png)"
   ]
  },
  {
   "cell_type": "markdown",
   "id": "0883cedd-de8e-4902-b662-19546ba2820f",
   "metadata": {},
   "source": [
    "In Morpheus, the `ControlMessage` is a more robust and flexible alternative to `MessageMeta` allowing us to include together with a `MessageMeta` payload additional metadata, task definitions, and multidimensional tensors.\n",
    "\n",
    "In this notebook we'll look at `ControlMessage` payloads, metadata and tasks. We'll refrain presently from discussing tensors, which we'll look at later in the workshop when we discuss inference in Morpheus pipelines."
   ]
  },
  {
   "cell_type": "markdown",
   "id": "cdaea481-581d-4f46-87e5-39b847237942",
   "metadata": {},
   "source": [
    "---"
   ]
  },
  {
   "cell_type": "markdown",
   "id": "ab6c35f8-8a01-4da0-8c56-347a088fd1c2",
   "metadata": {},
   "source": [
    "## Control Message Payloads"
   ]
  },
  {
   "cell_type": "markdown",
   "id": "67b7fbef-7026-4193-aec0-d21d3cb1b224",
   "metadata": {},
   "source": [
    "In its most simple form, a `ControlMessage` instance can serve as a simple wrapper around a `MultiMessage` payload.\n",
    "\n",
    "Here we instantiate a `ControlMessage` and set as its payload the `MessageMeta` we created above by way of its `payload` method."
   ]
  },
  {
   "cell_type": "code",
   "execution_count": 5,
   "id": "a7656e2a-c23a-42ec-add7-435ccbb2d2cd",
   "metadata": {
    "tags": []
   },
   "outputs": [],
   "source": [
    "cm = ControlMessage()"
   ]
  },
  {
   "cell_type": "code",
   "execution_count": 6,
   "id": "b2e38e4a-7356-483e-b819-f21505830742",
   "metadata": {
    "tags": []
   },
   "outputs": [],
   "source": [
    "cm.payload(mm)"
   ]
  },
  {
   "cell_type": "markdown",
   "id": "ba178b37-cc27-4e4a-9d52-0ccc5e0747f8",
   "metadata": {},
   "source": [
    "We can access a `ControlMessage`'s `MetaMessage` payload through its `payload()` method, invoked without any arguments."
   ]
  },
  {
   "cell_type": "code",
   "execution_count": 7,
   "id": "5c073bcc-1414-4947-a10a-185ed7d542da",
   "metadata": {
    "tags": []
   },
   "outputs": [],
   "source": [
    "payload = cm.payload()"
   ]
  },
  {
   "cell_type": "code",
   "execution_count": 8,
   "id": "d55b1ca7-0d41-442f-a00d-a10ad5a9e985",
   "metadata": {
    "tags": []
   },
   "outputs": [
    {
     "data": {
      "text/plain": [
       "morpheus._lib.messages.MessageMeta"
      ]
     },
     "execution_count": 8,
     "metadata": {},
     "output_type": "execute_result"
    }
   ],
   "source": [
    "type(payload)"
   ]
  },
  {
   "cell_type": "markdown",
   "id": "808e2793-3f94-4d8c-97f0-de1c97e537b1",
   "metadata": {},
   "source": [
    "As we've seen earlier in the workshop, the payload's underlying dataframe can be accessed through its `get_data()` method."
   ]
  },
  {
   "cell_type": "code",
   "execution_count": 9,
   "id": "311031e6-3b46-4e2e-adcc-d3e12fc94ca9",
   "metadata": {
    "tags": []
   },
   "outputs": [],
   "source": [
    "df = payload.get_data()"
   ]
  },
  {
   "cell_type": "code",
   "execution_count": 10,
   "id": "fb620841-a93a-4b14-85e2-788b98fe7fb3",
   "metadata": {
    "tags": []
   },
   "outputs": [
    {
     "data": {
      "text/plain": [
       "cudf.core.dataframe.DataFrame"
      ]
     },
     "execution_count": 10,
     "metadata": {},
     "output_type": "execute_result"
    }
   ],
   "source": [
    "type(df)"
   ]
  },
  {
   "cell_type": "code",
   "execution_count": 11,
   "id": "c60c4284-07dc-4806-a245-be56cc83787c",
   "metadata": {
    "tags": []
   },
   "outputs": [
    {
     "data": {
      "text/html": [
       "<div>\n",
       "<style scoped>\n",
       "    .dataframe tbody tr th:only-of-type {\n",
       "        vertical-align: middle;\n",
       "    }\n",
       "\n",
       "    .dataframe tbody tr th {\n",
       "        vertical-align: top;\n",
       "    }\n",
       "\n",
       "    .dataframe thead th {\n",
       "        text-align: right;\n",
       "    }\n",
       "</style>\n",
       "<table border=\"1\" class=\"dataframe\">\n",
       "  <thead>\n",
       "    <tr style=\"text-align: right;\">\n",
       "      <th></th>\n",
       "      <th>timestamp</th>\n",
       "      <th>user</th>\n",
       "      <th>ip_address</th>\n",
       "      <th>request_time</th>\n",
       "      <th>status</th>\n",
       "      <th>error_message</th>\n",
       "    </tr>\n",
       "  </thead>\n",
       "  <tbody>\n",
       "    <tr>\n",
       "      <th>0</th>\n",
       "      <td>2025-02-01T10:15:30Z</td>\n",
       "      <td>user123</td>\n",
       "      <td>192.168.1.10</td>\n",
       "      <td>200.45</td>\n",
       "      <td>success</td>\n",
       "      <td>&lt;NA&gt;</td>\n",
       "    </tr>\n",
       "    <tr>\n",
       "      <th>1</th>\n",
       "      <td>2025-02-01T10:17:00Z</td>\n",
       "      <td>user123</td>\n",
       "      <td>192.168.1.20</td>\n",
       "      <td>150.55</td>\n",
       "      <td>failure</td>\n",
       "      <td>Invalid credentials</td>\n",
       "    </tr>\n",
       "    <tr>\n",
       "      <th>2</th>\n",
       "      <td>2025-02-01T10:18:10Z</td>\n",
       "      <td>user456</td>\n",
       "      <td>10.0.0.5</td>\n",
       "      <td>180.60</td>\n",
       "      <td>success</td>\n",
       "      <td>&lt;NA&gt;</td>\n",
       "    </tr>\n",
       "    <tr>\n",
       "      <th>3</th>\n",
       "      <td>2025-02-01T10:19:25Z</td>\n",
       "      <td>user789</td>\n",
       "      <td>192.168.1.30</td>\n",
       "      <td>215.25</td>\n",
       "      <td>failure</td>\n",
       "      <td>Timeout</td>\n",
       "    </tr>\n",
       "    <tr>\n",
       "      <th>4</th>\n",
       "      <td>2025-02-01T10:20:00Z</td>\n",
       "      <td>user456</td>\n",
       "      <td>10.0.0.6</td>\n",
       "      <td>120.10</td>\n",
       "      <td>success</td>\n",
       "      <td>&lt;NA&gt;</td>\n",
       "    </tr>\n",
       "    <tr>\n",
       "      <th>5</th>\n",
       "      <td>2025-02-01T10:22:30Z</td>\n",
       "      <td>user123</td>\n",
       "      <td>192.168.1.40</td>\n",
       "      <td>175.35</td>\n",
       "      <td>failure</td>\n",
       "      <td>Access denied</td>\n",
       "    </tr>\n",
       "    <tr>\n",
       "      <th>6</th>\n",
       "      <td>2025-02-01T10:23:45Z</td>\n",
       "      <td>user321</td>\n",
       "      <td>192.168.1.50</td>\n",
       "      <td>205.50</td>\n",
       "      <td>success</td>\n",
       "      <td>&lt;NA&gt;</td>\n",
       "    </tr>\n",
       "    <tr>\n",
       "      <th>7</th>\n",
       "      <td>2025-02-01T10:25:05Z</td>\n",
       "      <td>user864</td>\n",
       "      <td>192.168.1.60</td>\n",
       "      <td>190.15</td>\n",
       "      <td>failure</td>\n",
       "      <td>Invalid session</td>\n",
       "    </tr>\n",
       "    <tr>\n",
       "      <th>8</th>\n",
       "      <td>2025-02-01T10:26:20Z</td>\n",
       "      <td>user123</td>\n",
       "      <td>192.168.1.70</td>\n",
       "      <td>210.80</td>\n",
       "      <td>success</td>\n",
       "      <td>&lt;NA&gt;</td>\n",
       "    </tr>\n",
       "    <tr>\n",
       "      <th>9</th>\n",
       "      <td>2025-02-01T10:27:40Z</td>\n",
       "      <td>user456</td>\n",
       "      <td>10.0.0.7</td>\n",
       "      <td>160.95</td>\n",
       "      <td>failure</td>\n",
       "      <td>Account locked</td>\n",
       "    </tr>\n",
       "  </tbody>\n",
       "</table>\n",
       "</div>"
      ],
      "text/plain": [
       "              timestamp     user    ip_address  request_time   status  \\\n",
       "0  2025-02-01T10:15:30Z  user123  192.168.1.10        200.45  success   \n",
       "1  2025-02-01T10:17:00Z  user123  192.168.1.20        150.55  failure   \n",
       "2  2025-02-01T10:18:10Z  user456      10.0.0.5        180.60  success   \n",
       "3  2025-02-01T10:19:25Z  user789  192.168.1.30        215.25  failure   \n",
       "4  2025-02-01T10:20:00Z  user456      10.0.0.6        120.10  success   \n",
       "5  2025-02-01T10:22:30Z  user123  192.168.1.40        175.35  failure   \n",
       "6  2025-02-01T10:23:45Z  user321  192.168.1.50        205.50  success   \n",
       "7  2025-02-01T10:25:05Z  user864  192.168.1.60        190.15  failure   \n",
       "8  2025-02-01T10:26:20Z  user123  192.168.1.70        210.80  success   \n",
       "9  2025-02-01T10:27:40Z  user456      10.0.0.7        160.95  failure   \n",
       "\n",
       "         error_message  \n",
       "0                 <NA>  \n",
       "1  Invalid credentials  \n",
       "2                 <NA>  \n",
       "3              Timeout  \n",
       "4                 <NA>  \n",
       "5        Access denied  \n",
       "6                 <NA>  \n",
       "7      Invalid session  \n",
       "8                 <NA>  \n",
       "9       Account locked  "
      ]
     },
     "execution_count": 11,
     "metadata": {},
     "output_type": "execute_result"
    }
   ],
   "source": [
    "df"
   ]
  },
  {
   "cell_type": "markdown",
   "id": "92db2bf1-444e-40f1-be16-76d430ac6f87",
   "metadata": {},
   "source": [
    "---"
   ]
  },
  {
   "cell_type": "markdown",
   "id": "6e21f9c7-d746-4e91-8c8b-af85e477fa67",
   "metadata": {},
   "source": [
    "## Control Message Metadata"
   ]
  },
  {
   "cell_type": "markdown",
   "id": "e1041a4a-fccb-4957-8a58-cfbd26408d2f",
   "metadata": {},
   "source": [
    "`ControlMessage` instances have an API for getting and setting metadata. Metadata are key value pairs and can be used in a number of arbitrary and helpful ways. You can think of them as dictionaries that apply to the entire message."
   ]
  },
  {
   "cell_type": "code",
   "execution_count": 12,
   "id": "4e5c7e1a-f502-49e9-b008-e701a7f14b09",
   "metadata": {
    "tags": []
   },
   "outputs": [],
   "source": [
    "cm.set_metadata(\"priority\", \"high\")"
   ]
  },
  {
   "cell_type": "code",
   "execution_count": 13,
   "id": "35b609fd-1b16-48de-bf15-23ebc6afe644",
   "metadata": {
    "tags": []
   },
   "outputs": [
    {
     "data": {
      "text/plain": [
       "True"
      ]
     },
     "execution_count": 13,
     "metadata": {},
     "output_type": "execute_result"
    }
   ],
   "source": [
    "cm.has_metadata(\"priority\")"
   ]
  },
  {
   "cell_type": "code",
   "execution_count": 14,
   "id": "846b66f0-971e-415e-b3ff-f0a7217149b2",
   "metadata": {
    "tags": []
   },
   "outputs": [
    {
     "data": {
      "text/plain": [
       "{'priority': 'high'}"
      ]
     },
     "execution_count": 14,
     "metadata": {},
     "output_type": "execute_result"
    }
   ],
   "source": [
    "cm.get_metadata()"
   ]
  },
  {
   "cell_type": "code",
   "execution_count": 15,
   "id": "7d32f2c5-1e4f-4788-abcd-c1f20e9c95cd",
   "metadata": {
    "tags": []
   },
   "outputs": [
    {
     "data": {
      "text/plain": [
       "'high'"
      ]
     },
     "execution_count": 15,
     "metadata": {},
     "output_type": "execute_result"
    }
   ],
   "source": [
    "cm.get_metadata()['priority']"
   ]
  },
  {
   "cell_type": "code",
   "execution_count": 16,
   "id": "e31f7349-1c6a-43d0-a7d8-db1df68f9d16",
   "metadata": {
    "tags": []
   },
   "outputs": [
    {
     "data": {
      "text/plain": [
       "['priority']"
      ]
     },
     "execution_count": 16,
     "metadata": {},
     "output_type": "execute_result"
    }
   ],
   "source": [
    "cm.list_metadata()"
   ]
  },
  {
   "cell_type": "markdown",
   "id": "b61a9b24-c9e0-4dd8-960f-ce77c118cfb4",
   "metadata": {},
   "source": [
    "---"
   ]
  },
  {
   "cell_type": "markdown",
   "id": "d3cf53e0-6d7e-4a63-811e-d9ad7ec4587f",
   "metadata": {},
   "source": [
    "## Control Message Tasks"
   ]
  },
  {
   "cell_type": "markdown",
   "id": "805677ad-ab21-49c2-a67e-d62221d6f8ca",
   "metadata": {},
   "source": [
    "`ControlMessage` tasks are a dictionary intended to store information about tasks that can or should be applied to the message's payload. `ControlMessage` tasks facilitate Single Instruction Multiple Data (SIMD) programming."
   ]
  },
  {
   "cell_type": "code",
   "execution_count": 17,
   "id": "8a6be116-1a57-4d16-bfc8-1bd02d11819a",
   "metadata": {
    "tags": []
   },
   "outputs": [],
   "source": [
    "task = {\n",
    "    \"IP\": \"127.0.0.1\",\n",
    "    \"port\": \"443\"\n",
    "}"
   ]
  },
  {
   "cell_type": "code",
   "execution_count": 18,
   "id": "cd14bf6d-85a1-4b5b-8141-a0ba829eea4c",
   "metadata": {
    "tags": []
   },
   "outputs": [],
   "source": [
    "cm.add_task(\"filter\", task)"
   ]
  },
  {
   "cell_type": "code",
   "execution_count": 19,
   "id": "d33e0476-b8f2-4098-bde0-42db5d69ccd5",
   "metadata": {
    "tags": []
   },
   "outputs": [
    {
     "data": {
      "text/plain": [
       "{'filter': [{'IP': '127.0.0.1', 'port': '443'}]}"
      ]
     },
     "execution_count": 19,
     "metadata": {},
     "output_type": "execute_result"
    }
   ],
   "source": [
    "cm.get_tasks()"
   ]
  },
  {
   "cell_type": "code",
   "execution_count": 20,
   "id": "f2ad8b17-b08b-4c88-bd52-03ec4d2dc9f7",
   "metadata": {
    "tags": []
   },
   "outputs": [
    {
     "data": {
      "text/plain": [
       "True"
      ]
     },
     "execution_count": 20,
     "metadata": {},
     "output_type": "execute_result"
    }
   ],
   "source": [
    "cm.has_task(\"filter\")"
   ]
  },
  {
   "cell_type": "code",
   "execution_count": 21,
   "id": "30ed758f-90c8-43e8-a52f-cec01724d793",
   "metadata": {
    "tags": []
   },
   "outputs": [
    {
     "data": {
      "text/plain": [
       "{'IP': '127.0.0.1', 'port': '443'}"
      ]
     },
     "execution_count": 21,
     "metadata": {},
     "output_type": "execute_result"
    }
   ],
   "source": [
    "task_details = cm.remove_task(\"filter\")\n",
    "task_details"
   ]
  },
  {
   "cell_type": "code",
   "execution_count": 22,
   "id": "8b2ef725-d8f9-4233-96d0-ce7f1fbd28ba",
   "metadata": {
    "tags": []
   },
   "outputs": [
    {
     "data": {
      "text/plain": [
       "False"
      ]
     },
     "execution_count": 22,
     "metadata": {},
     "output_type": "execute_result"
    }
   ],
   "source": [
    "cm.has_task(\"filter\")"
   ]
  },
  {
   "cell_type": "markdown",
   "id": "52f1c17a-36f3-4249-b09a-84bbd037ef08",
   "metadata": {},
   "source": [
    "---"
   ]
  },
  {
   "cell_type": "markdown",
   "id": "f23161f3-852d-42bc-aaa6-9d29d0b9eca6",
   "metadata": {},
   "source": [
    "## Control Message Intuition"
   ]
  },
  {
   "cell_type": "markdown",
   "id": "d9443605-d2cc-4640-8e2e-d3fc81388171",
   "metadata": {},
   "source": [
    "The following is a very simple example of how we might utilize a `ControlMessage`'s metadata and tasks to drive SIMD processing of its payload."
   ]
  },
  {
   "cell_type": "markdown",
   "id": "7bed02e4-3312-47a1-a19f-e374d28d6104",
   "metadata": {},
   "source": [
    "`process` is the function to actually perform work on the data. Here for our simple example, it just uppercases a specified column."
   ]
  },
  {
   "cell_type": "code",
   "execution_count": 23,
   "id": "c49d0f58-4c80-4693-9438-ebf05e9b4c43",
   "metadata": {
    "tags": []
   },
   "outputs": [],
   "source": [
    "def process(df, column, sleep_secs=2):\n",
    "    time.sleep(sleep_secs)\n",
    "    df[column] = df[column].str.upper()"
   ]
  },
  {
   "cell_type": "markdown",
   "id": "e491aa72-d4cc-477f-9468-c9669e5223e0",
   "metadata": {},
   "source": [
    "Here we instantiate a new `ControlMessage` instance, and set its payload as the `MessageMeta` instance created earlier out of the user authentication logs data."
   ]
  },
  {
   "cell_type": "code",
   "execution_count": 24,
   "id": "1733a25b-a7a7-400a-a780-a61e56b88a27",
   "metadata": {
    "tags": []
   },
   "outputs": [],
   "source": [
    "cm = ControlMessage()"
   ]
  },
  {
   "cell_type": "code",
   "execution_count": 25,
   "id": "89961078-e016-42d4-848d-1c870fa7cba8",
   "metadata": {
    "tags": []
   },
   "outputs": [],
   "source": [
    "cm.payload(mm)"
   ]
  },
  {
   "cell_type": "markdown",
   "id": "7e7a6455-7698-480b-847f-dae45fc690c6",
   "metadata": {},
   "source": [
    "Here we set some metadata on the control message, in this case specifying that it is in need of performance tracing."
   ]
  },
  {
   "cell_type": "code",
   "execution_count": 26,
   "id": "e56eeded-a77d-464d-a0af-e8e451dc3843",
   "metadata": {
    "tags": []
   },
   "outputs": [],
   "source": [
    "cm.set_metadata(\"tracing\", True)"
   ]
  },
  {
   "cell_type": "markdown",
   "id": "c1c493bd-cb95-4f2f-8cb1-18b3f6399cda",
   "metadata": {},
   "source": [
    "Here we articulate the details that will be required to run our `process` task, in this super simple case, the name of the column to be processed. We then add the task details to `cm`."
   ]
  },
  {
   "cell_type": "code",
   "execution_count": 27,
   "id": "81a5693f-72e2-4c92-a8d9-8ab111dc72c2",
   "metadata": {
    "tags": []
   },
   "outputs": [],
   "source": [
    "process_task_details = {\n",
    "    \"column\": \"status\"\n",
    "}"
   ]
  },
  {
   "cell_type": "code",
   "execution_count": 28,
   "id": "8ee2e515-e6d6-41ec-b707-de1361539646",
   "metadata": {
    "tags": []
   },
   "outputs": [],
   "source": [
    "cm.add_task(\"process\", process_task_details)"
   ]
  },
  {
   "cell_type": "markdown",
   "id": "75713584-1a45-403d-ba5e-1f0b5c4029ed",
   "metadata": {},
   "source": [
    "Let's have a look at our configured `ControlMessage` metadata and task list."
   ]
  },
  {
   "cell_type": "code",
   "execution_count": 29,
   "id": "42e0e99d-0b26-4687-80de-9a990724b5b9",
   "metadata": {
    "tags": []
   },
   "outputs": [
    {
     "data": {
      "text/plain": [
       "{'tracing': True}"
      ]
     },
     "execution_count": 29,
     "metadata": {},
     "output_type": "execute_result"
    }
   ],
   "source": [
    "cm.get_metadata()"
   ]
  },
  {
   "cell_type": "code",
   "execution_count": 30,
   "id": "3c605ef4-6c21-46f8-9290-4a5be18b4b90",
   "metadata": {
    "tags": []
   },
   "outputs": [
    {
     "data": {
      "text/plain": [
       "{'process': [{'column': 'status'}]}"
      ]
     },
     "execution_count": 30,
     "metadata": {},
     "output_type": "execute_result"
    }
   ],
   "source": [
    "cm.get_tasks()"
   ]
  },
  {
   "cell_type": "markdown",
   "id": "26cf3e0a-09f2-4f0a-9d60-98ec3fbfb84c",
   "metadata": {},
   "source": [
    "Now we see how we might put everything together for actual use.\n",
    "\n",
    "First we check if the message's metadata indicates the need for performance tracing, if so, we tag the processing entry time. Then, we check to see if a processing tasks exists, if so, we pop the task from the `ControlMessage` and perform the necessary processing. When completed, if performance tracing was specified in the metadata, the completion time is tagged. Upon completion, the data has been transformed and we can inspect runtime performance details."
   ]
  },
  {
   "cell_type": "code",
   "execution_count": 31,
   "id": "f1881cda-edae-4b68-9a85-933d0cf61e46",
   "metadata": {
    "tags": []
   },
   "outputs": [
    {
     "name": "stdout",
     "output_type": "stream",
     "text": [
      "Message processed in 2.00s\n"
     ]
    }
   ],
   "source": [
    "# Tag beginning time of message processing\n",
    "if cm.get_metadata(\"tracing\"):\n",
    "    cm.set_metadata(\"start_time\", time.time())\n",
    "\n",
    "# Use the message meta context manager to prevent race conditions.\n",
    "with cm.payload().mutable_dataframe() as df:\n",
    "\n",
    "    # Perform necessary processing\n",
    "    if cm.has_task(\"process\"):\n",
    "        process_task = cm.remove_task(\"process\")\n",
    "        column = process_task[\"column\"]\n",
    "\n",
    "        process(df, column, sleep_secs=2)   \n",
    "\n",
    "# Tag end time of message processing\n",
    "if cm.get_metadata(\"tracing\"):\n",
    "    cm.set_metadata(\"end_time\", time.time())\n",
    "\n",
    "# Calculate runtime performance details\n",
    "if cm.get_metadata(\"tracing\"):\n",
    "    runtime = cm.get_metadata(\"end_time\") - cm.get_metadata(\"start_time\")\n",
    "    print(f\"Message processed in {runtime:.2f}s\")"
   ]
  },
  {
   "cell_type": "markdown",
   "id": "c945349b-66d9-4045-bcf5-1b8ee7ae9bed",
   "metadata": {},
   "source": [
    "Here we note that the process task is no longer in the task list, meaning the task was removed and the data was processed."
   ]
  },
  {
   "cell_type": "code",
   "execution_count": 32,
   "id": "cd4c9065-77bb-4b24-ae3b-60aaca8ce896",
   "metadata": {
    "tags": []
   },
   "outputs": [
    {
     "data": {
      "text/plain": [
       "{'process': []}"
      ]
     },
     "execution_count": 32,
     "metadata": {},
     "output_type": "execute_result"
    }
   ],
   "source": [
    "cm.get_tasks()"
   ]
  },
  {
   "cell_type": "markdown",
   "id": "616847fe-6acd-430e-a217-f4b8635aecb0",
   "metadata": {},
   "source": [
    "Here we note that the metadata has been updated with performance traces, allowing us to inspect runtime performance details on a per message basis."
   ]
  },
  {
   "cell_type": "code",
   "execution_count": 33,
   "id": "19cf76b6-1625-48be-a3f0-ea45f363031c",
   "metadata": {
    "tags": []
   },
   "outputs": [
    {
     "data": {
      "text/plain": [
       "{'end_time': 1758603987.9728162,\n",
       " 'start_time': 1758603985.9678571,\n",
       " 'tracing': True}"
      ]
     },
     "execution_count": 33,
     "metadata": {},
     "output_type": "execute_result"
    }
   ],
   "source": [
    "cm.get_metadata()"
   ]
  },
  {
   "cell_type": "markdown",
   "id": "7b6b3ba0-db3c-4ba9-b52d-445ee174f391",
   "metadata": {},
   "source": [
    "The results of our processing are in the `status` column, were all values are now capitalized."
   ]
  },
  {
   "cell_type": "code",
   "execution_count": 34,
   "id": "98c5fb75-f31f-45e1-b34a-6791ee72a86f",
   "metadata": {
    "tags": []
   },
   "outputs": [
    {
     "data": {
      "text/html": [
       "<div>\n",
       "<style scoped>\n",
       "    .dataframe tbody tr th:only-of-type {\n",
       "        vertical-align: middle;\n",
       "    }\n",
       "\n",
       "    .dataframe tbody tr th {\n",
       "        vertical-align: top;\n",
       "    }\n",
       "\n",
       "    .dataframe thead th {\n",
       "        text-align: right;\n",
       "    }\n",
       "</style>\n",
       "<table border=\"1\" class=\"dataframe\">\n",
       "  <thead>\n",
       "    <tr style=\"text-align: right;\">\n",
       "      <th></th>\n",
       "      <th>timestamp</th>\n",
       "      <th>user</th>\n",
       "      <th>ip_address</th>\n",
       "      <th>request_time</th>\n",
       "      <th>status</th>\n",
       "      <th>error_message</th>\n",
       "    </tr>\n",
       "  </thead>\n",
       "  <tbody>\n",
       "    <tr>\n",
       "      <th>0</th>\n",
       "      <td>2025-02-01T10:15:30Z</td>\n",
       "      <td>user123</td>\n",
       "      <td>192.168.1.10</td>\n",
       "      <td>200.45</td>\n",
       "      <td>SUCCESS</td>\n",
       "      <td>&lt;NA&gt;</td>\n",
       "    </tr>\n",
       "    <tr>\n",
       "      <th>1</th>\n",
       "      <td>2025-02-01T10:17:00Z</td>\n",
       "      <td>user123</td>\n",
       "      <td>192.168.1.20</td>\n",
       "      <td>150.55</td>\n",
       "      <td>FAILURE</td>\n",
       "      <td>Invalid credentials</td>\n",
       "    </tr>\n",
       "    <tr>\n",
       "      <th>2</th>\n",
       "      <td>2025-02-01T10:18:10Z</td>\n",
       "      <td>user456</td>\n",
       "      <td>10.0.0.5</td>\n",
       "      <td>180.60</td>\n",
       "      <td>SUCCESS</td>\n",
       "      <td>&lt;NA&gt;</td>\n",
       "    </tr>\n",
       "    <tr>\n",
       "      <th>3</th>\n",
       "      <td>2025-02-01T10:19:25Z</td>\n",
       "      <td>user789</td>\n",
       "      <td>192.168.1.30</td>\n",
       "      <td>215.25</td>\n",
       "      <td>FAILURE</td>\n",
       "      <td>Timeout</td>\n",
       "    </tr>\n",
       "    <tr>\n",
       "      <th>4</th>\n",
       "      <td>2025-02-01T10:20:00Z</td>\n",
       "      <td>user456</td>\n",
       "      <td>10.0.0.6</td>\n",
       "      <td>120.10</td>\n",
       "      <td>SUCCESS</td>\n",
       "      <td>&lt;NA&gt;</td>\n",
       "    </tr>\n",
       "    <tr>\n",
       "      <th>5</th>\n",
       "      <td>2025-02-01T10:22:30Z</td>\n",
       "      <td>user123</td>\n",
       "      <td>192.168.1.40</td>\n",
       "      <td>175.35</td>\n",
       "      <td>FAILURE</td>\n",
       "      <td>Access denied</td>\n",
       "    </tr>\n",
       "    <tr>\n",
       "      <th>6</th>\n",
       "      <td>2025-02-01T10:23:45Z</td>\n",
       "      <td>user321</td>\n",
       "      <td>192.168.1.50</td>\n",
       "      <td>205.50</td>\n",
       "      <td>SUCCESS</td>\n",
       "      <td>&lt;NA&gt;</td>\n",
       "    </tr>\n",
       "    <tr>\n",
       "      <th>7</th>\n",
       "      <td>2025-02-01T10:25:05Z</td>\n",
       "      <td>user864</td>\n",
       "      <td>192.168.1.60</td>\n",
       "      <td>190.15</td>\n",
       "      <td>FAILURE</td>\n",
       "      <td>Invalid session</td>\n",
       "    </tr>\n",
       "    <tr>\n",
       "      <th>8</th>\n",
       "      <td>2025-02-01T10:26:20Z</td>\n",
       "      <td>user123</td>\n",
       "      <td>192.168.1.70</td>\n",
       "      <td>210.80</td>\n",
       "      <td>SUCCESS</td>\n",
       "      <td>&lt;NA&gt;</td>\n",
       "    </tr>\n",
       "    <tr>\n",
       "      <th>9</th>\n",
       "      <td>2025-02-01T10:27:40Z</td>\n",
       "      <td>user456</td>\n",
       "      <td>10.0.0.7</td>\n",
       "      <td>160.95</td>\n",
       "      <td>FAILURE</td>\n",
       "      <td>Account locked</td>\n",
       "    </tr>\n",
       "  </tbody>\n",
       "</table>\n",
       "</div>"
      ],
      "text/plain": [
       "              timestamp     user    ip_address  request_time   status  \\\n",
       "0  2025-02-01T10:15:30Z  user123  192.168.1.10        200.45  SUCCESS   \n",
       "1  2025-02-01T10:17:00Z  user123  192.168.1.20        150.55  FAILURE   \n",
       "2  2025-02-01T10:18:10Z  user456      10.0.0.5        180.60  SUCCESS   \n",
       "3  2025-02-01T10:19:25Z  user789  192.168.1.30        215.25  FAILURE   \n",
       "4  2025-02-01T10:20:00Z  user456      10.0.0.6        120.10  SUCCESS   \n",
       "5  2025-02-01T10:22:30Z  user123  192.168.1.40        175.35  FAILURE   \n",
       "6  2025-02-01T10:23:45Z  user321  192.168.1.50        205.50  SUCCESS   \n",
       "7  2025-02-01T10:25:05Z  user864  192.168.1.60        190.15  FAILURE   \n",
       "8  2025-02-01T10:26:20Z  user123  192.168.1.70        210.80  SUCCESS   \n",
       "9  2025-02-01T10:27:40Z  user456      10.0.0.7        160.95  FAILURE   \n",
       "\n",
       "         error_message  \n",
       "0                 <NA>  \n",
       "1  Invalid credentials  \n",
       "2                 <NA>  \n",
       "3              Timeout  \n",
       "4                 <NA>  \n",
       "5        Access denied  \n",
       "6                 <NA>  \n",
       "7      Invalid session  \n",
       "8                 <NA>  \n",
       "9       Account locked  "
      ]
     },
     "execution_count": 34,
     "metadata": {},
     "output_type": "execute_result"
    }
   ],
   "source": [
    "cm.payload().get_data()"
   ]
  },
  {
   "cell_type": "code",
   "execution_count": null,
   "id": "7acf599c-3261-4980-bb99-ab726c3dd5dc",
   "metadata": {},
   "outputs": [],
   "source": [
    "#ControlMessage.Payload = MessageMeta\n",
    "#ControlMessage = payload + metadata + task + tensor "
   ]
  }
 ],
 "metadata": {
  "kernelspec": {
   "display_name": "Python [conda env:morpheus] *",
   "language": "python",
   "name": "conda-env-morpheus-py"
  },
  "language_info": {
   "codemirror_mode": {
    "name": "ipython",
    "version": 3
   },
   "file_extension": ".py",
   "mimetype": "text/x-python",
   "name": "python",
   "nbconvert_exporter": "python",
   "pygments_lexer": "ipython3",
   "version": "3.10.15"
  }
 },
 "nbformat": 4,
 "nbformat_minor": 5
}
